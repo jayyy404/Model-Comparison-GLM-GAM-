{
 "cells": [
  {
   "cell_type": "code",
   "id": "initial_id",
   "metadata": {
    "collapsed": true,
    "ExecuteTime": {
     "end_time": "2025-10-24T05:42:07.837124Z",
     "start_time": "2025-10-24T05:42:07.830707Z"
    }
   },
   "source": [
    "#LIBRARIES NEEDED\n",
    "import pandas as pd\n",
    "import numpy as np\n",
    "import matplotlib.pyplot as plt\n",
    "import seaborn as sns\n",
    "import statsmodels.api as sm\n",
    "import statsmodels.formula.api as smf\n",
    "from statsmodels.formula.api import glm\n",
    "from statsmodels.genmod.families import Gamma as SM_Gamma, Gaussian as SM_Gaussian, Binomial\n",
    "from statsmodels.genmod.families.links import log as log_link, identity as id_link, logit\n",
    "from sklearn.metrics import mean_squared_error, mean_absolute_error, confusion_matrix, roc_auc_score\n",
    "from sklearn.preprocessing import LabelEncoder\n",
    "from pygam import LinearGAM, GammaGAM, LogisticGAM, s, te, l\n",
    "import geopandas as gpd\n",
    "from shapely.geometry import Point\n",
    "from scipy.interpolate import griddata\n",
    "from pygam import GAM\n",
    "from pygam import LogisticGAM, s\n",
    "from functools import reduce\n",
    "import operator"
   ],
   "outputs": [],
   "execution_count": 5
  },
  {
   "metadata": {
    "ExecuteTime": {
     "end_time": "2025-10-24T05:51:34.387882Z",
     "start_time": "2025-10-24T05:51:34.297380Z"
    }
   },
   "cell_type": "code",
   "source": [
    "# Load dataset\n",
    "file_path = \"PHILIPPINES_DATA_19.csv\"\n",
    "df = pd.read_csv(file_path)\n",
    "\n",
    "# Select and rename key variables\n",
    "df = df.rename(columns={\n",
    "    'CR1': 'Age', 'CR2': 'Sex', 'PHR5': 'WeeklyAllowance', 'PHR3': 'Grade',\n",
    "    'PHR4': 'SchoolType', 'CR5': 'EverSmoked', 'CR7': 'SmokedPast30Days',\n",
    "    'PHR20': 'TriedVape', 'SR1': 'TriedShisha', 'PHR64': 'ThinksHarmful'\n",
    "})\n",
    "\n",
    "# Encode binary responses (Yes/No → 1/0)\n",
    "binary_vars = ['EverSmoked', 'SmokedPast30Days', 'TriedVape', 'TriedShisha', 'ThinksHarmful']\n",
    "for var in binary_vars:\n",
    "    df[var] = df[var].replace({'Yes': 1, 'No': 0}).astype('float')\n",
    "\n",
    "# Drop rows with missing values in relevant columns\n",
    "df = df[['SmokedPast30Days', 'Age', 'Sex', 'WeeklyAllowance', 'EverSmoked', 'TriedVape', 'TriedShisha', 'ThinksHarmful']].dropna()\n",
    "df['Sex'] = df['Sex'].map({1: 'Male', 2: 'Female'})\n",
    "print(\"Data ready for analysis:\", df.shape)\n",
    "df.dropna()\n",
    "df.describe().T"
   ],
   "id": "c70b0415b9b4589f",
   "outputs": [
    {
     "name": "stdout",
     "output_type": "stream",
     "text": [
      "Data ready for analysis: (9249, 8)\n"
     ]
    },
    {
     "data": {
      "text/plain": [
       "                   count      mean       std  min  25%  50%  75%  max\n",
       "SmokedPast30Days  9249.0  1.181749  0.757994  1.0  1.0  1.0  1.0  7.0\n",
       "Age               9249.0  3.907990  1.492292  1.0  3.0  4.0  5.0  7.0\n",
       "WeeklyAllowance   9249.0  3.146178  1.100112  1.0  3.0  3.0  4.0  7.0\n",
       "EverSmoked        9249.0  1.810142  0.392210  1.0  2.0  2.0  2.0  2.0\n",
       "TriedVape         9249.0  1.794464  0.404114  1.0  2.0  2.0  2.0  2.0\n",
       "TriedShisha       9249.0  1.974484  0.157696  1.0  2.0  2.0  2.0  2.0\n",
       "ThinksHarmful     9249.0  1.164666  0.370899  1.0  1.0  1.0  1.0  2.0"
      ],
      "text/html": [
       "<div>\n",
       "<style scoped>\n",
       "    .dataframe tbody tr th:only-of-type {\n",
       "        vertical-align: middle;\n",
       "    }\n",
       "\n",
       "    .dataframe tbody tr th {\n",
       "        vertical-align: top;\n",
       "    }\n",
       "\n",
       "    .dataframe thead th {\n",
       "        text-align: right;\n",
       "    }\n",
       "</style>\n",
       "<table border=\"1\" class=\"dataframe\">\n",
       "  <thead>\n",
       "    <tr style=\"text-align: right;\">\n",
       "      <th></th>\n",
       "      <th>count</th>\n",
       "      <th>mean</th>\n",
       "      <th>std</th>\n",
       "      <th>min</th>\n",
       "      <th>25%</th>\n",
       "      <th>50%</th>\n",
       "      <th>75%</th>\n",
       "      <th>max</th>\n",
       "    </tr>\n",
       "  </thead>\n",
       "  <tbody>\n",
       "    <tr>\n",
       "      <th>SmokedPast30Days</th>\n",
       "      <td>9249.0</td>\n",
       "      <td>1.181749</td>\n",
       "      <td>0.757994</td>\n",
       "      <td>1.0</td>\n",
       "      <td>1.0</td>\n",
       "      <td>1.0</td>\n",
       "      <td>1.0</td>\n",
       "      <td>7.0</td>\n",
       "    </tr>\n",
       "    <tr>\n",
       "      <th>Age</th>\n",
       "      <td>9249.0</td>\n",
       "      <td>3.907990</td>\n",
       "      <td>1.492292</td>\n",
       "      <td>1.0</td>\n",
       "      <td>3.0</td>\n",
       "      <td>4.0</td>\n",
       "      <td>5.0</td>\n",
       "      <td>7.0</td>\n",
       "    </tr>\n",
       "    <tr>\n",
       "      <th>WeeklyAllowance</th>\n",
       "      <td>9249.0</td>\n",
       "      <td>3.146178</td>\n",
       "      <td>1.100112</td>\n",
       "      <td>1.0</td>\n",
       "      <td>3.0</td>\n",
       "      <td>3.0</td>\n",
       "      <td>4.0</td>\n",
       "      <td>7.0</td>\n",
       "    </tr>\n",
       "    <tr>\n",
       "      <th>EverSmoked</th>\n",
       "      <td>9249.0</td>\n",
       "      <td>1.810142</td>\n",
       "      <td>0.392210</td>\n",
       "      <td>1.0</td>\n",
       "      <td>2.0</td>\n",
       "      <td>2.0</td>\n",
       "      <td>2.0</td>\n",
       "      <td>2.0</td>\n",
       "    </tr>\n",
       "    <tr>\n",
       "      <th>TriedVape</th>\n",
       "      <td>9249.0</td>\n",
       "      <td>1.794464</td>\n",
       "      <td>0.404114</td>\n",
       "      <td>1.0</td>\n",
       "      <td>2.0</td>\n",
       "      <td>2.0</td>\n",
       "      <td>2.0</td>\n",
       "      <td>2.0</td>\n",
       "    </tr>\n",
       "    <tr>\n",
       "      <th>TriedShisha</th>\n",
       "      <td>9249.0</td>\n",
       "      <td>1.974484</td>\n",
       "      <td>0.157696</td>\n",
       "      <td>1.0</td>\n",
       "      <td>2.0</td>\n",
       "      <td>2.0</td>\n",
       "      <td>2.0</td>\n",
       "      <td>2.0</td>\n",
       "    </tr>\n",
       "    <tr>\n",
       "      <th>ThinksHarmful</th>\n",
       "      <td>9249.0</td>\n",
       "      <td>1.164666</td>\n",
       "      <td>0.370899</td>\n",
       "      <td>1.0</td>\n",
       "      <td>1.0</td>\n",
       "      <td>1.0</td>\n",
       "      <td>1.0</td>\n",
       "      <td>2.0</td>\n",
       "    </tr>\n",
       "  </tbody>\n",
       "</table>\n",
       "</div>"
      ]
     },
     "execution_count": 13,
     "metadata": {},
     "output_type": "execute_result"
    }
   ],
   "execution_count": 13
  },
  {
   "metadata": {
    "ExecuteTime": {
     "end_time": "2025-10-24T05:51:42.692113Z",
     "start_time": "2025-10-24T05:51:42.683075Z"
    }
   },
   "cell_type": "code",
   "source": "df['Sex']",
   "id": "4ccb39e141bb48bf",
   "outputs": [
    {
     "data": {
      "text/plain": [
       "1        Female\n",
       "2        Female\n",
       "3        Female\n",
       "4        Female\n",
       "5        Female\n",
       "          ...  \n",
       "10597      Male\n",
       "10598      Male\n",
       "10599      Male\n",
       "10600      Male\n",
       "10601      Male\n",
       "Name: Sex, Length: 9249, dtype: object"
      ]
     },
     "execution_count": 14,
     "metadata": {},
     "output_type": "execute_result"
    }
   ],
   "execution_count": 14
  },
  {
   "metadata": {},
   "cell_type": "code",
   "outputs": [],
   "execution_count": null,
   "source": "",
   "id": "84c23f59a0dbbe3d"
  }
 ],
 "metadata": {
  "kernelspec": {
   "display_name": "Python 3",
   "language": "python",
   "name": "python3"
  },
  "language_info": {
   "codemirror_mode": {
    "name": "ipython",
    "version": 2
   },
   "file_extension": ".py",
   "mimetype": "text/x-python",
   "name": "python",
   "nbconvert_exporter": "python",
   "pygments_lexer": "ipython2",
   "version": "2.7.6"
  }
 },
 "nbformat": 4,
 "nbformat_minor": 5
}
